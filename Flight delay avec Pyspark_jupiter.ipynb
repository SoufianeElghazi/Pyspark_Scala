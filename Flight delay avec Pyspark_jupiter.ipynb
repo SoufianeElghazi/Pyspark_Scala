{
 "cells": [
  {
   "cell_type": "markdown",
   "id": "acaea6b6",
   "metadata": {},
   "source": [
    "---\n",
    "* ***ELGHAZI Soufiane***\n",
    "---"
   ]
  },
  {
   "cell_type": "markdown",
   "id": "b6ee41c1",
   "metadata": {},
   "source": [
    "<h1 style='color:purple' align='center'>TP 2 - Flight delay avec Pyspark</h1>\n",
    "\n",
    "---"
   ]
  },
  {
   "cell_type": "markdown",
   "id": "374d1d37",
   "metadata": {},
   "source": [
    "<h3 style='color:brown'>Installation et Importation des bibliothèques nécessaires</h3>\n"
   ]
  },
  {
   "cell_type": "raw",
   "id": "56f71d9c",
   "metadata": {},
   "source": [
    "pip install findspark"
   ]
  },
  {
   "cell_type": "code",
   "execution_count": 1,
   "id": "d733ca5e",
   "metadata": {},
   "outputs": [],
   "source": [
    "import findspark\n",
    "findspark.init()"
   ]
  },
  {
   "cell_type": "code",
   "execution_count": 2,
   "id": "20d5a07a",
   "metadata": {},
   "outputs": [],
   "source": [
    "from pyspark.sql import SparkSession\n",
    "from pyspark.sql.functions import *\n",
    "from pyspark.sql.types import *"
   ]
  },
  {
   "cell_type": "markdown",
   "id": "ef44a847",
   "metadata": {},
   "source": [
    "<h3 style='color:brown'>Créer une session Spark</h3>\n"
   ]
  },
  {
   "cell_type": "code",
   "execution_count": 3,
   "id": "8a1d7e8e",
   "metadata": {},
   "outputs": [],
   "source": [
    "spark = SparkSession.builder.appName(\"FlightDelays\").getOrCreate()"
   ]
  },
  {
   "cell_type": "markdown",
   "id": "f353a5c9",
   "metadata": {},
   "source": [
    "<h3 style='color:brown'>Définir le schéma</h3>\n"
   ]
  },
  {
   "cell_type": "code",
   "execution_count": 4,
   "id": "582a3bb1",
   "metadata": {},
   "outputs": [],
   "source": [
    "flight_schema = StructType([\n",
    "    StructField(\"_id\", StringType(), True),\n",
    "    StructField(\"dofw\", IntegerType(), True),\n",
    "    StructField(\"carrier\", StringType(), True),\n",
    "    StructField(\"origin\", StringType(), True),\n",
    "    StructField(\"dest\", StringType(), True),\n",
    "    StructField(\"crsdephour\", IntegerType(), True),\n",
    "    StructField(\"crsdeptime\", DoubleType(), True),\n",
    "    StructField(\"depdelay\", DoubleType(), True),\n",
    "    StructField(\"crsarrtime\", DoubleType(), True),\n",
    "    StructField(\"arrdelay\", DoubleType(), True),\n",
    "    StructField(\"crselapsedtime\", DoubleType(), True),\n",
    "    StructField(\"dist\", DoubleType(), True)\n",
    "])"
   ]
  },
  {
   "cell_type": "markdown",
   "id": "11d9df26",
   "metadata": {},
   "source": [
    "<h3 style='color:brown'>Charger les données</h3>\n"
   ]
  },
  {
   "cell_type": "code",
   "execution_count": 5,
   "id": "1cec3e61",
   "metadata": {},
   "outputs": [],
   "source": [
    "file_path = \"flights20170102.json\"\n",
    "df = spark.read.format(\"json\").option(\"inferSchema\", \"false\").schema(flight_schema).load(file_path).cache()"
   ]
  },
  {
   "cell_type": "markdown",
   "id": "a76281ae",
   "metadata": {},
   "source": [
    "<h3 style='color:brown'>Afficher les 10 premières lignes</h3>\n"
   ]
  },
  {
   "cell_type": "code",
   "execution_count": 6,
   "id": "d4548b19",
   "metadata": {},
   "outputs": [
    {
     "name": "stdout",
     "output_type": "stream",
     "text": [
      "+--------------------+----+-------+------+----+----------+----------+--------+----------+--------+--------------+------+\n",
      "|                 _id|dofw|carrier|origin|dest|crsdephour|crsdeptime|depdelay|crsarrtime|arrdelay|crselapsedtime|  dist|\n",
      "+--------------------+----+-------+------+----+----------+----------+--------+----------+--------+--------------+------+\n",
      "|AA_2017-01-01_ATL...|NULL|     AA|   ATL| LGA|        17|    1700.0|     0.0|    1912.0|     0.0|         132.0| 762.0|\n",
      "|AA_2017-01-01_LGA...|NULL|     AA|   LGA| ATL|        13|    1343.0|     0.0|    1620.0|     0.0|         157.0| 762.0|\n",
      "|AA_2017-01-01_MIA...|NULL|     AA|   MIA| ATL|         9|     939.0|     0.0|    1137.0|    10.0|         118.0| 594.0|\n",
      "|AA_2017-01-01_ORD...|NULL|     AA|   ORD| MIA|        20|    2020.0|     0.0|      26.0|     0.0|         186.0|1197.0|\n",
      "|AA_2017-01-01_LGA...|NULL|     AA|   LGA| MIA|         7|     700.0|     0.0|    1017.0|     0.0|         197.0|1096.0|\n",
      "|AA_2017-01-01_ORD...|NULL|     AA|   ORD| DEN|        13|    1345.0|     0.0|    1527.0|     0.0|         162.0| 888.0|\n",
      "|AA_2017-01-01_DEN...|NULL|     AA|   DEN| MIA|        11|    1100.0|     0.0|    1649.0|     0.0|         229.0|1709.0|\n",
      "|AA_2017-01-01_MIA...|NULL|     AA|   MIA| DEN|         7|     720.0|     7.0|     949.0|     0.0|         269.0|1709.0|\n",
      "|AA_2017-01-01_DEN...|NULL|     AA|   DEN| ORD|        12|    1235.0|     0.0|    1600.0|     0.0|         145.0| 888.0|\n",
      "|AA_2017-01-01_ORD...|NULL|     AA|   ORD| DEN|        10|    1005.0|     5.0|    1145.0|     3.0|         160.0| 888.0|\n",
      "+--------------------+----+-------+------+----+----------+----------+--------+----------+--------+--------------+------+\n",
      "only showing top 10 rows\n",
      "\n"
     ]
    }
   ],
   "source": [
    "df.show(10)"
   ]
  },
  {
   "cell_type": "markdown",
   "id": "a46aff5e",
   "metadata": {},
   "source": [
    "<h3 style='color:brown'>Filtrer les vols avec crsdephour égal à 10</h3>\n"
   ]
  },
  {
   "cell_type": "code",
   "execution_count": 7,
   "id": "09ff5a89",
   "metadata": {},
   "outputs": [
    {
     "name": "stdout",
     "output_type": "stream",
     "text": [
      "+--------------------+----+-------+------+----+----------+----------+--------+----------+--------+--------------+------+\n",
      "|                 _id|dofw|carrier|origin|dest|crsdephour|crsdeptime|depdelay|crsarrtime|arrdelay|crselapsedtime|  dist|\n",
      "+--------------------+----+-------+------+----+----------+----------+--------+----------+--------+--------------+------+\n",
      "|AA_2017-01-01_ORD...|NULL|     AA|   ORD| DEN|        10|    1005.0|     5.0|    1145.0|     3.0|         160.0| 888.0|\n",
      "|AA_2017-01-01_MIA...|NULL|     AA|   MIA| ORD|        10|    1005.0|     4.0|    1231.0|     0.0|         206.0|1197.0|\n",
      "|DL_2017-01-01_ORD...|NULL|     DL|   ORD| ATL|        10|    1000.0|     2.0|    1300.0|     0.0|         120.0| 606.0|\n",
      "|DL_2017-01-01_DEN...|NULL|     DL|   DEN| ATL|        10|    1035.0|     4.0|    1524.0|     0.0|         169.0|1199.0|\n",
      "|DL_2017-01-01_DEN...|NULL|     DL|   DEN| LGA|        10|    1045.0|     0.0|    1624.0|     0.0|         219.0|1620.0|\n",
      "+--------------------+----+-------+------+----+----------+----------+--------+----------+--------+--------------+------+\n",
      "only showing top 5 rows\n",
      "\n"
     ]
    }
   ],
   "source": [
    "df.filter(col(\"crsdephour\") == 10).show(5)"
   ]
  },
  {
   "cell_type": "markdown",
   "id": "9a996d88",
   "metadata": {},
   "source": [
    "<h3 style='color:brown'>Filtrer les vols avec crsdephour égal à 10 et depdelay non nul</h3>\n"
   ]
  },
  {
   "cell_type": "code",
   "execution_count": 8,
   "id": "e35ccc2c",
   "metadata": {},
   "outputs": [
    {
     "name": "stdout",
     "output_type": "stream",
     "text": [
      "+--------------------+----+-------+------+----+----------+----------+--------+----------+--------+--------------+------+\n",
      "|                 _id|dofw|carrier|origin|dest|crsdephour|crsdeptime|depdelay|crsarrtime|arrdelay|crselapsedtime|  dist|\n",
      "+--------------------+----+-------+------+----+----------+----------+--------+----------+--------+--------------+------+\n",
      "|AA_2017-01-01_ORD...|NULL|     AA|   ORD| DEN|        10|    1005.0|     5.0|    1145.0|     3.0|         160.0| 888.0|\n",
      "|AA_2017-01-01_MIA...|NULL|     AA|   MIA| ORD|        10|    1005.0|     4.0|    1231.0|     0.0|         206.0|1197.0|\n",
      "|DL_2017-01-01_ORD...|NULL|     DL|   ORD| ATL|        10|    1000.0|     2.0|    1300.0|     0.0|         120.0| 606.0|\n",
      "|DL_2017-01-01_DEN...|NULL|     DL|   DEN| ATL|        10|    1035.0|     4.0|    1524.0|     0.0|         169.0|1199.0|\n",
      "|DL_2017-01-01_DEN...|NULL|     DL|   DEN| LGA|        10|    1045.0|     0.0|    1624.0|     0.0|         219.0|1620.0|\n",
      "|DL_2017-01-01_ATL...|NULL|     DL|   ATL| MIA|        10|    1005.0|    20.0|    1205.0|     8.0|         120.0| 594.0|\n",
      "|DL_2017-01-01_LGA...|NULL|     DL|   LGA| MIA|        10|    1000.0|     0.0|    1332.0|     0.0|         212.0|1096.0|\n",
      "|DL_2017-01-01_MIA...|NULL|     DL|   MIA| ATL|        10|    1010.0|     0.0|    1213.0|     0.0|         123.0| 594.0|\n",
      "|DL_2017-01-01_LGA...|NULL|     DL|   LGA| ATL|        10|     955.0|     0.0|    1240.0|     0.0|         165.0| 762.0|\n",
      "|DL_2017-01-01_ATL...|NULL|     DL|   ATL| LGA|        10|    1045.0|     0.0|    1253.0|     0.0|         128.0| 762.0|\n",
      "+--------------------+----+-------+------+----+----------+----------+--------+----------+--------+--------------+------+\n",
      "only showing top 10 rows\n",
      "\n"
     ]
    }
   ],
   "source": [
    "df.filter((col(\"crsdephour\") == 10) & (col(\"depdelay\").isNotNull())).show(10)"
   ]
  },
  {
   "cell_type": "markdown",
   "id": "35d0c3e8",
   "metadata": {},
   "source": [
    "<h3 style='color:brown'> Regrouper par le transporteur (carrier) et afficher le nombre de vols pour chaque transporteur</h3>\n"
   ]
  },
  {
   "cell_type": "code",
   "execution_count": 9,
   "id": "0f08761f",
   "metadata": {},
   "outputs": [
    {
     "name": "stdout",
     "output_type": "stream",
     "text": [
      "+-------+-----+\n",
      "|carrier|count|\n",
      "+-------+-----+\n",
      "|     UA|18873|\n",
      "|     AA|10031|\n",
      "|     DL|10055|\n",
      "|     WN| 2389|\n",
      "+-------+-----+\n",
      "\n"
     ]
    }
   ],
   "source": [
    "df.groupBy(\"carrier\").count().show()"
   ]
  },
  {
   "cell_type": "markdown",
   "id": "2d2988d9",
   "metadata": {},
   "source": [
    "<h3 style='color:brown'> Regrouper par le transporteur et calculer le retard de départ maximum, minimum, et la somme des heures planifiées de départ</h3>\n"
   ]
  },
  {
   "cell_type": "code",
   "execution_count": 10,
   "id": "5d4afb2e",
   "metadata": {},
   "outputs": [
    {
     "name": "stdout",
     "output_type": "stream",
     "text": [
      "+-------+-------------+-------------+---------------+\n",
      "|carrier|max(depdelay)|min(depdelay)|sum(crsdeptime)|\n",
      "+-------+-------------+-------------+---------------+\n",
      "|     UA|       1138.0|          0.0|    2.4267859E7|\n",
      "|     AA|       1440.0|          0.0|    1.3226373E7|\n",
      "|     DL|       1185.0|          0.0|    1.3318833E7|\n",
      "|     WN|        375.0|          0.0|      3104545.0|\n",
      "+-------+-------------+-------------+---------------+\n",
      "\n"
     ]
    }
   ],
   "source": [
    "df.groupBy(\"carrier\").agg(max(\"depdelay\"), min(\"depdelay\"), sum(\"crsdeptime\")).show()"
   ]
  },
  {
   "cell_type": "markdown",
   "id": "3d50b42f",
   "metadata": {},
   "source": [
    "<h3 style='color:brown'>Filtrer les vols avec arrdelay > 40 ou depdelay > 48, puis regrouper par la destination (dest) et afficher le nombre de vols pour chaque destination, trié par ordre décroissant\n",
    "</h3>\n"
   ]
  },
  {
   "cell_type": "code",
   "execution_count": 11,
   "id": "aabcc20f",
   "metadata": {},
   "outputs": [
    {
     "name": "stdout",
     "output_type": "stream",
     "text": [
      "+----+-----+\n",
      "|dest|count|\n",
      "+----+-----+\n",
      "| SFO|  901|\n",
      "| EWR|  652|\n",
      "| ORD|  619|\n",
      "| LGA|  606|\n",
      "| ATL|  555|\n",
      "| DEN|  421|\n",
      "| MIA|  393|\n",
      "| BOS|  368|\n",
      "| IAH|  340|\n",
      "+----+-----+\n",
      "\n"
     ]
    }
   ],
   "source": [
    "df.filter((col(\"arrdelay\") > 40) | (col(\"depdelay\") > 48)).groupBy(\"dest\").count().orderBy(desc(\"count\")).show()"
   ]
  },
  {
   "cell_type": "markdown",
   "id": "5eabb873",
   "metadata": {},
   "source": [
    "<h3 style='color:brown'> Cacher le DataFrame en mémoire</h3>\n"
   ]
  },
  {
   "cell_type": "code",
   "execution_count": 12,
   "id": "e98bc62c",
   "metadata": {},
   "outputs": [
    {
     "data": {
      "text/plain": [
       "DataFrame[_id: string, dofw: int, carrier: string, origin: string, dest: string, crsdephour: int, crsdeptime: double, depdelay: double, crsarrtime: double, arrdelay: double, crselapsedtime: double, dist: double]"
      ]
     },
     "execution_count": 12,
     "metadata": {},
     "output_type": "execute_result"
    }
   ],
   "source": [
    "df.cache()"
   ]
  },
  {
   "cell_type": "markdown",
   "id": "08d61fe0",
   "metadata": {},
   "source": [
    "<h3 style='color:brown'> Créer une vue temporaire pour Spark SQL</h3>\n"
   ]
  },
  {
   "cell_type": "code",
   "execution_count": 13,
   "id": "2e59e2dc",
   "metadata": {},
   "outputs": [],
   "source": [
    "df.createOrReplaceTempView(\"flights\")"
   ]
  },
  {
   "cell_type": "markdown",
   "id": "e796e454",
   "metadata": {},
   "source": [
    "<h3 style='color:brown'> Mettre en cache la table flights en mémoire en format colonne</h3>\n"
   ]
  },
  {
   "cell_type": "code",
   "execution_count": 14,
   "id": "70206a03",
   "metadata": {},
   "outputs": [],
   "source": [
    "spark.catalog.cacheTable(\"flights\")"
   ]
  },
  {
   "cell_type": "markdown",
   "id": "408c48a5",
   "metadata": {},
   "source": [
    "<h3 style='color:brown'> Utiliser Spark SQL pour effectuer une requête</h3>\n"
   ]
  },
  {
   "cell_type": "code",
   "execution_count": 15,
   "id": "c0a7942e",
   "metadata": {},
   "outputs": [
    {
     "name": "stdout",
     "output_type": "stream",
     "text": [
      "+-------+------+----+--------+----------+------+----+\n",
      "|carrier|origin|dest|depdelay|crsdephour|  dist|dofw|\n",
      "+-------+------+----+--------+----------+------+----+\n",
      "|     AA|   SFO| ORD|  1440.0|         8|1846.0|NULL|\n",
      "|     DL|   BOS| ATL|  1185.0|        17| 946.0|NULL|\n",
      "|     UA|   DEN| EWR|  1138.0|        12|1605.0|NULL|\n",
      "|     DL|   ORD| ATL|  1087.0|        19| 606.0|NULL|\n",
      "|     UA|   MIA| EWR|  1072.0|        20|1085.0|NULL|\n",
      "+-------+------+----+--------+----------+------+----+\n",
      "\n"
     ]
    }
   ],
   "source": [
    "spark.sql(\"SELECT carrier, origin, dest, depdelay, crsdephour, dist, dofw FROM flights WHERE depdelay > 40 ORDER BY depdelay DESC LIMIT 5\").show()"
   ]
  },
  {
   "attachments": {},
   "cell_type": "markdown",
   "id": "bd08b8ae",
   "metadata": {},
   "source": [
    "<h3 style='color:brown'> Effectuer la même requête en utilisant les transformations DataFrame</h3>\n"
   ]
  },
  {
   "cell_type": "code",
   "execution_count": 16,
   "id": "4d140e39",
   "metadata": {},
   "outputs": [
    {
     "name": "stdout",
     "output_type": "stream",
     "text": [
      "+-------+------+----+--------+----------+------+----+\n",
      "|carrier|origin|dest|depdelay|crsdephour|  dist|dofw|\n",
      "+-------+------+----+--------+----------+------+----+\n",
      "|     AA|   SFO| ORD|  1440.0|         8|1846.0|NULL|\n",
      "|     DL|   BOS| ATL|  1185.0|        17| 946.0|NULL|\n",
      "|     UA|   DEN| EWR|  1138.0|        12|1605.0|NULL|\n",
      "|     DL|   ORD| ATL|  1087.0|        19| 606.0|NULL|\n",
      "|     UA|   MIA| EWR|  1072.0|        20|1085.0|NULL|\n",
      "+-------+------+----+--------+----------+------+----+\n",
      "only showing top 5 rows\n",
      "\n"
     ]
    }
   ],
   "source": [
    "df.select(\"carrier\", \"origin\", \"dest\", \"depdelay\", \"crsdephour\", \"dist\", \"dofw\").filter(col(\"depdelay\") > 40).orderBy(desc(\"depdelay\")).show(5)"
   ]
  },
  {
   "cell_type": "markdown",
   "id": "268318df",
   "metadata": {},
   "source": [
    "<h3 style='color:brown'> Calculer la moyenne du retard de départ pour chaque transporteur</h3>\n"
   ]
  },
  {
   "cell_type": "code",
   "execution_count": 17,
   "id": "142159d9",
   "metadata": {},
   "outputs": [
    {
     "name": "stdout",
     "output_type": "stream",
     "text": [
      "+-------+------------------+\n",
      "|carrier|     avg(depdelay)|\n",
      "+-------+------------------+\n",
      "|     UA|17.477878450696764|\n",
      "|     AA| 10.45768118831622|\n",
      "|     DL|15.316061660865241|\n",
      "|     WN|13.491000418585182|\n",
      "+-------+------------------+\n",
      "\n"
     ]
    }
   ],
   "source": [
    "df.groupBy(\"carrier\").agg(avg(\"depdelay\")).show()"
   ]
  },
  {
   "cell_type": "markdown",
   "id": "9a072d1b",
   "metadata": {},
   "source": [
    "<h3 style='color:brown'> Utiliser Spark SQL pour calculer la moyenne du retard de départ pour chaque transporteur\n",
    "</h3>\n"
   ]
  },
  {
   "cell_type": "code",
   "execution_count": 18,
   "id": "9d31c7d8",
   "metadata": {},
   "outputs": [
    {
     "name": "stdout",
     "output_type": "stream",
     "text": [
      "+-------+------------------+\n",
      "|carrier|     avg(depdelay)|\n",
      "+-------+------------------+\n",
      "|     UA|17.477878450696764|\n",
      "|     AA| 10.45768118831622|\n",
      "|     DL|15.316061660865241|\n",
      "|     WN|13.491000418585182|\n",
      "+-------+------------------+\n",
      "\n"
     ]
    }
   ],
   "source": [
    "spark.sql(\"SELECT carrier, AVG(depdelay) FROM flights GROUP BY carrier\").show()"
   ]
  },
  {
   "cell_type": "markdown",
   "id": "08385202",
   "metadata": {},
   "source": [
    "<h3 style='color:brown'> Afficher le résultat du regroupement par transporteur pour les vols avec un retard de départ supérieur à 48, trié par ordre décroissant du nombre de vols\n",
    "\n",
    "</h3>\n"
   ]
  },
  {
   "cell_type": "code",
   "execution_count": 19,
   "id": "0202c053",
   "metadata": {},
   "outputs": [
    {
     "name": "stdout",
     "output_type": "stream",
     "text": [
      "+-------+-----+\n",
      "|carrier|count|\n",
      "+-------+-----+\n",
      "|     UA| 2094|\n",
      "|     DL|  911|\n",
      "|     AA|  642|\n",
      "|     WN|  201|\n",
      "+-------+-----+\n",
      "\n"
     ]
    }
   ],
   "source": [
    "df.filter(col(\"depdelay\") > 48).groupBy(\"carrier\").count().orderBy(desc(\"count\")).show(5)"
   ]
  },
  {
   "cell_type": "markdown",
   "id": "6a585a42",
   "metadata": {},
   "source": [
    "<h3 style='color:brown'>Utiliser Spark SQL pour afficher le nombre de vols pour chaque transporteur avec un retard de départ supérieur à 40\n",
    "\n",
    "</h3>\n"
   ]
  },
  {
   "cell_type": "code",
   "execution_count": 20,
   "id": "37938b69",
   "metadata": {},
   "outputs": [
    {
     "name": "stdout",
     "output_type": "stream",
     "text": [
      "+-------+---------------+\n",
      "|carrier|count(depdelay)|\n",
      "+-------+---------------+\n",
      "|     UA|           2420|\n",
      "|     AA|            757|\n",
      "|     DL|           1043|\n",
      "|     WN|            244|\n",
      "+-------+---------------+\n",
      "\n"
     ]
    }
   ],
   "source": [
    "spark.sql(\"SELECT carrier, COUNT(depdelay) FROM flights WHERE depdelay > 40 GROUP BY carrier\").show()"
   ]
  },
  {
   "cell_type": "markdown",
   "id": "b2f6b07a",
   "metadata": {},
   "source": [
    "<h3 style='color:brown'> Utiliser Spark SQL pour afficher le nombre de vols pour chaque jour de la semaine avec un retard de départ supérieur à 40\n",
    "\n",
    "</h3>\n"
   ]
  },
  {
   "cell_type": "code",
   "execution_count": 21,
   "id": "69a22443",
   "metadata": {},
   "outputs": [
    {
     "name": "stdout",
     "output_type": "stream",
     "text": [
      "+----+---------------+\n",
      "|dofw|count(depdelay)|\n",
      "+----+---------------+\n",
      "|NULL|           4464|\n",
      "+----+---------------+\n",
      "\n"
     ]
    }
   ],
   "source": [
    "spark.sql(\"SELECT dofw, COUNT(depdelay) FROM flights WHERE depdelay > 40 GROUP BY dofw\").show()"
   ]
  },
  {
   "cell_type": "markdown",
   "id": "449365e1",
   "metadata": {},
   "source": [
    "<h3 style='color:brown'> Utiliser Spark SQL pour afficher le nombre de vols pour chaque heure de départ planifiée avec un retard de départ supérieur à 48\n",
    "\n",
    "</h3>\n"
   ]
  },
  {
   "cell_type": "code",
   "execution_count": 22,
   "id": "92932ac6",
   "metadata": {},
   "outputs": [
    {
     "name": "stdout",
     "output_type": "stream",
     "text": [
      "+----------+---------------+\n",
      "|crsdephour|count(depdelay)|\n",
      "+----------+---------------+\n",
      "|         0|              8|\n",
      "|         1|              1|\n",
      "|         5|             14|\n",
      "|         6|             58|\n",
      "|         7|             89|\n",
      "|         8|            160|\n",
      "|         9|            151|\n",
      "|        10|            239|\n",
      "|        11|            238|\n",
      "|        12|            207|\n",
      "|        13|            279|\n",
      "|        14|            306|\n",
      "|        15|            279|\n",
      "|        16|            317|\n",
      "|        17|            419|\n",
      "|        18|            346|\n",
      "|        19|            327|\n",
      "|        20|            189|\n",
      "|        21|            134|\n",
      "|        22|             57|\n",
      "+----------+---------------+\n",
      "only showing top 20 rows\n",
      "\n"
     ]
    }
   ],
   "source": [
    "spark.sql(\"SELECT crsdephour, COUNT(depdelay) FROM flights WHERE depdelay > 48 GROUP BY crsdephour ORDER BY crsdephour\").show()"
   ]
  },
  {
   "cell_type": "markdown",
   "id": "38dc06fb",
   "metadata": {},
   "source": [
    "<h3 style='color:brown'> Utiliser Spark SQL pour afficher le nombre de vols pour chaque origine avec un retard de départ supérieur à 40, trié par ordre décroissant du nombre de vols\n",
    "\n",
    "</h3>\n"
   ]
  },
  {
   "cell_type": "code",
   "execution_count": 23,
   "id": "b87140ee",
   "metadata": {},
   "outputs": [
    {
     "name": "stdout",
     "output_type": "stream",
     "text": [
      "+------+---------------+\n",
      "|origin|count(depdelay)|\n",
      "+------+---------------+\n",
      "|   ORD|            679|\n",
      "|   ATL|            637|\n",
      "|   SFO|            542|\n",
      "|   EWR|            518|\n",
      "|   DEN|            484|\n",
      "|   IAH|            447|\n",
      "|   LGA|            432|\n",
      "|   MIA|            429|\n",
      "|   BOS|            296|\n",
      "+------+---------------+\n",
      "\n"
     ]
    }
   ],
   "source": [
    "spark.sql(\"SELECT origin, COUNT(depdelay) FROM flights WHERE depdelay > 40 GROUP BY origin ORDER BY COUNT(depdelay) DESC\").show()"
   ]
  },
  {
   "cell_type": "markdown",
   "id": "8fb3cc36",
   "metadata": {},
   "source": [
    "<h3 style='color:brown'> Visualisations\n",
    "</h3>\n"
   ]
  },
  {
   "cell_type": "markdown",
   "id": "90248d0f",
   "metadata": {},
   "source": [
    "<h4 style='color:orange'>Visualisation : Bar plot de la moyenne du retard de départ par transporteur\n",
    "</h4>\n"
   ]
  },
  {
   "cell_type": "code",
   "execution_count": 24,
   "id": "f7ae0cdf",
   "metadata": {},
   "outputs": [
    {
     "data": {
      "image/png": "[encoded data removed]",
      "text/plain": [
       "<Figure size 640x480 with 1 Axes>"
      ]
     },
     "metadata": {},
     "output_type": "display_data"
    }
   ],
   "source": [
    "import pandas as pd\n",
    "import matplotlib.pyplot as plt\n",
    "# Regrouper par le transporteur (carrier) et calculer la moyenne du retard de départ\n",
    "avg_delay_per_carrier = df.groupBy(\"carrier\").agg(avg(\"depdelay\")).toPandas()\n",
    "avg_delay_per_carrier.plot(kind='bar', x='carrier', y='avg(depdelay)', legend=False)\n",
    "plt.title('Moyenne du Retard de Départ par Transporteur')\n",
    "plt.xlabel('Transporteur')\n",
    "plt.ylabel('Moyenne du Retard de Départ')\n",
    "plt.show()"
   ]
  },
  {
   "cell_type": "markdown",
   "id": "f0a0c761",
   "metadata": {},
   "source": [
    "<h4 style='color:orange'>Visualisation : Histogramme du retard de départ pour les vols avec un retard de départ supérieur à 40\n",
    "</h4>\n"
   ]
  },
  {
   "cell_type": "code",
   "execution_count": 25,
   "id": "ea400148",
   "metadata": {},
   "outputs": [
    {
     "data": {
      "image/png": "[encoded data removed]",
      "text/plain": [
       "<Figure size 640x480 with 1 Axes>"
      ]
     },
     "metadata": {},
     "output_type": "display_data"
    }
   ],
   "source": [
    "depdelay_over_40 = df.filter(col(\"depdelay\") > 40).select(\"depdelay\").toPandas()\n",
    "\n",
    "depdelay_over_40.plot(kind='hist', bins=20, legend=False)\n",
    "plt.title('Histogramme du Retard de Départ pour les Vols avec un Retard de Départ > 40')\n",
    "plt.xlabel('Retard de Départ')\n",
    "plt.ylabel('Fréquence')\n",
    "plt.show()"
   ]
  },
  {
   "cell_type": "markdown",
   "id": "889deb82",
   "metadata": {},
   "source": [
    "<h4 style='color:orange'>Visualisation : Pie chart du nombre de vols par jour de la semaine avec un retard de départ supérieur à 40\n",
    "</h4>\n"
   ]
  },
  {
   "cell_type": "code",
   "execution_count": 26,
   "id": "f4cb9a7f",
   "metadata": {},
   "outputs": [
    {
     "data": {
      "image/png": "[encoded data removed]",
      "text/plain": [
       "<Figure size 640x480 with 1 Axes>"
      ]
     },
     "metadata": {},
     "output_type": "display_data"
    }
   ],
   "source": [
    "depdelay_per_dofw = df.filter(col(\"depdelay\") > 40).groupBy(\"dofw\").count().toPandas()\n",
    "\n",
    "depdelay_per_dofw.plot(kind='pie', y='count', labels=depdelay_per_dofw['dofw'], autopct='%1.1f%%', legend=False)\n",
    "plt.title('Répartition des Vols avec un Retard de Départ > 40 par Jour de la Semaine')\n",
    "plt.ylabel('')\n",
    "plt.show()\n"
   ]
  },
  {
   "cell_type": "markdown",
   "id": "e07380ad",
   "metadata": {},
   "source": [
    "<h3 style='color:brown'> Arrêter la session Spark\n",
    "</h3>\n"
   ]
  },
  {
   "cell_type": "code",
   "execution_count": 27,
   "id": "87e8cfd9",
   "metadata": {},
   "outputs": [],
   "source": [
    "spark.stop()"
   ]
  },
  {
   "cell_type": "markdown",
   "id": "ab6f5c5a",
   "metadata": {},
   "source": [
    "<h2 style='color:purple' align='center'>Fin</h2>\n",
    "\n",
    "---"
   ]
  }
 ],
 "metadata": {
  "kernelspec": {
   "display_name": "Python 3 (ipykernel)",
   "language": "python",
   "name": "python3"
  },
  "language_info": {
   "codemirror_mode": {
    "name": "ipython",
    "version": 3
   },
   "file_extension": ".py",
   "mimetype": "text/x-python",
   "name": "python",
   "nbconvert_exporter": "python",
   "pygments_lexer": "ipython3",
   "version": "3.11.4"
  }
 },
 "nbformat": 4,
 "nbformat_minor": 5
}
