{
 "cells": [
  {
   "cell_type": "markdown",
   "id": "833fa2a0-0f00-4e91-8298-31a2c216644c",
   "metadata": {},
   "source": [
    "---\n",
    "> *ELGHAZI SOUFIANE\n",
    "---"
   ]
  },
  {
   "cell_type": "code",
   "execution_count": 1,
   "id": "10acc15e-e03c-4b13-9cf6-84cc0b42d3c8",
   "metadata": {},
   "outputs": [
    {
     "data": {
      "text/plain": [
       "spark = org.apache.spark.sql.SparkSession@331495c9\n"
      ]
     },
     "metadata": {},
     "output_type": "display_data",
     "source": "user"
    },
    {
     "data": {
      "text/plain": [
       "org.apache.spark.sql.SparkSession@331495c9"
      ]
     },
     "execution_count": 1,
     "metadata": {},
     "output_type": "execute_result"
    }
   ],
   "source": [
    "import org.apache.spark.sql.{SparkSession, DataFrame}\n",
    "val spark = SparkSession.builder.appName(\"Flights_scala\").getOrCreate()"
   ]
  },
  {
   "cell_type": "code",
   "execution_count": 2,
   "id": "dd00fdd5-874f-4016-8cc5-4208cbb068a3",
   "metadata": {},
   "outputs": [
    {
     "name": "stdout",
     "output_type": "stream",
     "text": [
      "+--------------------+--------+-------+----------+----------+----------+--------------+--------+----+------+----+------+\n",
      "|                 _id|arrdelay|carrier|crsarrtime|crsdephour|crsdeptime|crselapsedtime|depdelay|dest|  dist|dofW|origin|\n",
      "+--------------------+--------+-------+----------+----------+----------+--------------+--------+----+------+----+------+\n",
      "|AA_2017-01-01_ATL...|     0.0|     AA|      1912|        17|      1700|         132.0|     0.0| LGA| 762.0|   7|   ATL|\n",
      "|AA_2017-01-01_LGA...|     0.0|     AA|      1620|        13|      1343|         157.0|     0.0| ATL| 762.0|   7|   LGA|\n",
      "|AA_2017-01-01_MIA...|    10.0|     AA|      1137|         9|       939|         118.0|     0.0| ATL| 594.0|   7|   MIA|\n",
      "|AA_2017-01-01_ORD...|     0.0|     AA|        26|        20|      2020|         186.0|     0.0| MIA|1197.0|   7|   ORD|\n",
      "|AA_2017-01-01_LGA...|     0.0|     AA|      1017|         7|       700|         197.0|     0.0| MIA|1096.0|   7|   LGA|\n",
      "|AA_2017-01-01_ORD...|     0.0|     AA|      1527|        13|      1345|         162.0|     0.0| DEN| 888.0|   7|   ORD|\n",
      "|AA_2017-01-01_DEN...|     0.0|     AA|      1649|        11|      1100|         229.0|     0.0| MIA|1709.0|   7|   DEN|\n",
      "|AA_2017-01-01_MIA...|     0.0|     AA|       949|         7|       720|         269.0|     7.0| DEN|1709.0|   7|   MIA|\n",
      "|AA_2017-01-01_DEN...|     0.0|     AA|      1600|        12|      1235|         145.0|     0.0| ORD| 888.0|   7|   DEN|\n",
      "|AA_2017-01-01_ORD...|     3.0|     AA|      1145|        10|      1005|         160.0|     5.0| DEN| 888.0|   7|   ORD|\n",
      "+--------------------+--------+-------+----------+----------+----------+--------------+--------+----+------+----+------+\n",
      "only showing top 10 rows\n",
      "\n"
     ]
    },
    {
     "data": {
      "text/plain": [
       "file = file:///home/soufiane/Bureau/Spark_TP2/flights20170102.json\n",
       "df = [_id: string, arrdelay: double ... 10 more fields]\n"
      ]
     },
     "metadata": {},
     "output_type": "display_data",
     "source": "user"
    },
    {
     "data": {
      "text/plain": [
       "[_id: string, arrdelay: double ... 10 more fields]"
      ]
     },
     "execution_count": 2,
     "metadata": {},
     "output_type": "execute_result"
    }
   ],
   "source": [
    "var file =\"file:///home/soufiane/Bureau/Spark_TP2/flights20170102.json\"\n",
    "val df = spark.read.format(\"json\").option(\"inferSchema\", \"true\").load(file) \n",
    "df.createOrReplaceTempView(\"flights\")\n",
    "df.show(10)"
   ]
  },
  {
   "cell_type": "code",
   "execution_count": 3,
   "id": "80e1409f-0ba9-4faa-a74a-a6d10f0debe9",
   "metadata": {},
   "outputs": [
    {
     "name": "stdout",
     "output_type": "stream",
     "text": [
      "+--------------------+--------+-------+----------+----------+----------+--------------+--------+----+------+----+------+\n",
      "|                 _id|arrdelay|carrier|crsarrtime|crsdephour|crsdeptime|crselapsedtime|depdelay|dest|  dist|dofW|origin|\n",
      "+--------------------+--------+-------+----------+----------+----------+--------------+--------+----+------+----+------+\n",
      "|AA_2017-01-01_ORD...|     3.0|     AA|      1145|        10|      1005|         160.0|     5.0| DEN| 888.0|   7|   ORD|\n",
      "|AA_2017-01-01_MIA...|     0.0|     AA|      1231|        10|      1005|         206.0|     4.0| ORD|1197.0|   7|   MIA|\n",
      "|DL_2017-01-01_ORD...|     0.0|     DL|      1300|        10|      1000|         120.0|     2.0| ATL| 606.0|   7|   ORD|\n",
      "|DL_2017-01-01_DEN...|     0.0|     DL|      1524|        10|      1035|         169.0|     4.0| ATL|1199.0|   7|   DEN|\n",
      "|DL_2017-01-01_DEN...|     0.0|     DL|      1624|        10|      1045|         219.0|     0.0| LGA|1620.0|   7|   DEN|\n",
      "+--------------------+--------+-------+----------+----------+----------+--------------+--------+----+------+----+------+\n",
      "only showing top 5 rows\n",
      "\n"
     ]
    }
   ],
   "source": [
    "import org.apache.spark.sql.functions._\n",
    "df.filter($\"crsdephour\" === 10).show(5)"
   ]
  },
  {
   "cell_type": "code",
   "execution_count": 4,
   "id": "f7c9bcf5-d254-4fc3-b625-2f98feae0527",
   "metadata": {},
   "outputs": [
    {
     "name": "stdout",
     "output_type": "stream",
     "text": [
      "+--------------------+--------+-------+----------+----------+----------+--------------+--------+----+------+----+------+\n",
      "|                 _id|arrdelay|carrier|crsarrtime|crsdephour|crsdeptime|crselapsedtime|depdelay|dest|  dist|dofW|origin|\n",
      "+--------------------+--------+-------+----------+----------+----------+--------------+--------+----+------+----+------+\n",
      "|UA_2017-01-01_EWR...|    55.0|     UA|      1319|        10|      1042|         157.0|    70.0| ATL| 746.0|   7|   EWR|\n",
      "|AA_2017-01-01_ATL...|   141.0|     AA|      1106|        10|       959|         127.0|   137.0| ORD| 606.0|   7|   ATL|\n",
      "|AA_2017-01-02_ORD...|   319.0|     AA|      1314|        10|      1034|         280.0|   294.0| SFO|1846.0|   1|   ORD|\n",
      "|WN_2017-01-02_SFO...|   118.0|     WN|      1315|        10|       950|         145.0|   115.0| DEN| 967.0|   1|   SFO|\n",
      "|AA_2017-01-02_BOS...|    59.0|     AA|      1215|        10|      1015|         180.0|    45.0| ORD| 867.0|   1|   BOS|\n",
      "|UA_2017-01-02_IAH...|   160.0|     UA|      1349|        10|      1025|         144.0|   128.0| MIA| 964.0|   1|   IAH|\n",
      "|UA_2017-01-02_IAH...|    39.0|     UA|      1442|        10|      1020|         202.0|    53.0| EWR|1400.0|   1|   IAH|\n",
      "|UA_2017-01-02_DEN...|    30.0|     UA|      1326|        10|      1004|         142.0|    42.0| IAH| 862.0|   1|   DEN|\n",
      "|UA_2017-01-02_IAH...|    46.0|     UA|      1251|        10|      1015|         156.0|    63.0| ORD| 925.0|   1|   IAH|\n",
      "|UA_2017-01-02_IAH...|   129.0|     UA|      1237|        10|      1015|         262.0|   134.0| SFO|1635.0|   1|   IAH|\n",
      "+--------------------+--------+-------+----------+----------+----------+--------------+--------+----+------+----+------+\n",
      "only showing top 10 rows\n",
      "\n"
     ]
    }
   ],
   "source": [
    "df.filter($\"crsdephour\" === 10 && $\"depdelay\" > 40).show(10)"
   ]
  },
  {
   "cell_type": "code",
   "execution_count": 5,
   "id": "06859d1d-e986-437f-9c90-9976e67a690a",
   "metadata": {},
   "outputs": [
    {
     "name": "stdout",
     "output_type": "stream",
     "text": [
      "+-------+-----+\n",
      "|carrier|count|\n",
      "+-------+-----+\n",
      "|     UA|18873|\n",
      "|     AA|10031|\n",
      "|     DL|10055|\n",
      "|     WN| 2389|\n",
      "+-------+-----+\n",
      "\n"
     ]
    }
   ],
   "source": [
    "df.groupBy(\"carrier\").count().show()"
   ]
  },
  {
   "cell_type": "code",
   "execution_count": 6,
   "id": "2edc66ee-b038-4ae9-a825-d702d5600c19",
   "metadata": {},
   "outputs": [
    {
     "name": "stdout",
     "output_type": "stream",
     "text": [
      "+-------+-------------+-------------+---------------+\n",
      "|carrier|max(depdelay)|min(depdelay)|sum(crsdeptime)|\n",
      "+-------+-------------+-------------+---------------+\n",
      "|     UA|       1138.0|          0.0|       24267859|\n",
      "|     AA|       1440.0|          0.0|       13226373|\n",
      "|     DL|       1185.0|          0.0|       13318833|\n",
      "|     WN|        375.0|          0.0|        3104545|\n",
      "+-------+-------------+-------------+---------------+\n",
      "\n"
     ]
    }
   ],
   "source": [
    "df.groupBy(\"carrier\").agg(\"depdelay\" -> \"max\", \"depdelay\" -> \"min\", \"crsdeptime\" -> \"sum\").show"
   ]
  },
  {
   "cell_type": "code",
   "execution_count": 7,
   "id": "2fc2fad0-6b02-4379-aa24-b9e5dc0eed09",
   "metadata": {},
   "outputs": [
    {
     "name": "stdout",
     "output_type": "stream",
     "text": [
      "+----+-----+\n",
      "|dest|count|\n",
      "+----+-----+\n",
      "| SFO|  926|\n",
      "| EWR|  699|\n",
      "| ORD|  670|\n",
      "| LGA|  647|\n",
      "| ATL|  616|\n",
      "| DEN|  462|\n",
      "| MIA|  432|\n",
      "| BOS|  393|\n",
      "| IAH|  375|\n",
      "+----+-----+\n",
      "\n"
     ]
    }
   ],
   "source": [
    "df.filter($\"arrdelay\" >40 || $\"depdelay\"> 40).groupBy(\"dest\").count().orderBy(desc(\"count\")).show()"
   ]
  },
  {
   "cell_type": "code",
   "execution_count": 8,
   "id": "fb8f91fc-e270-459d-ae59-8f6a8ec11b4a",
   "metadata": {},
   "outputs": [
    {
     "data": {
      "text/plain": [
       "[_id: string, arrdelay: double ... 10 more fields]"
      ]
     },
     "execution_count": 8,
     "metadata": {},
     "output_type": "execute_result"
    }
   ],
   "source": [
    "df.cache"
   ]
  },
  {
   "cell_type": "code",
   "execution_count": 9,
   "id": "5f8ed009-29cf-474b-b9fa-0bc9c1716760",
   "metadata": {},
   "outputs": [],
   "source": [
    "df.createOrReplaceTempView(\"flights\")"
   ]
  },
  {
   "cell_type": "code",
   "execution_count": 10,
   "id": "9c358043-68fe-4fcf-997e-9972ed6565cc",
   "metadata": {},
   "outputs": [],
   "source": [
    "spark.catalog.cacheTable(\"flights\")"
   ]
  },
  {
   "cell_type": "code",
   "execution_count": 11,
   "id": "56958733-f246-4f2e-8a0f-d205bff5f74e",
   "metadata": {},
   "outputs": [
    {
     "name": "stdout",
     "output_type": "stream",
     "text": [
      "+-------+------+----+--------+----------+------+----+\n",
      "|carrier|origin|dest|depdelay|crsdephour|  dist|dofw|\n",
      "+-------+------+----+--------+----------+------+----+\n",
      "|     AA|   SFO| ORD|  1440.0|         8|1846.0|   3|\n",
      "|     DL|   BOS| ATL|  1185.0|        17| 946.0|   6|\n",
      "|     UA|   DEN| EWR|  1138.0|        12|1605.0|   4|\n",
      "|     DL|   ORD| ATL|  1087.0|        19| 606.0|   7|\n",
      "|     UA|   MIA| EWR|  1072.0|        20|1085.0|   1|\n",
      "+-------+------+----+--------+----------+------+----+\n",
      "\n"
     ]
    }
   ],
   "source": [
    "spark.sql(\"select carrier, origin, dest, depdelay, crsdephour, dist, dofw from flights where depdelay> 40 order by depdelay desc limit 5\").show"
   ]
  },
  {
   "cell_type": "code",
   "execution_count": 12,
   "id": "8ca99879-0e79-4afc-a811-0a5d2f265007",
   "metadata": {},
   "outputs": [
    {
     "name": "stdout",
     "output_type": "stream",
     "text": [
      "+-------+------+----+--------+----------+------+----+\n",
      "|carrier|origin|dest|depdelay|crsdephour|  dist|dofw|\n",
      "+-------+------+----+--------+----------+------+----+\n",
      "|     AA|   SFO| ORD|  1440.0|         8|1846.0|   3|\n",
      "|     DL|   BOS| ATL|  1185.0|        17| 946.0|   6|\n",
      "|     UA|   DEN| EWR|  1138.0|        12|1605.0|   4|\n",
      "|     DL|   ORD| ATL|  1087.0|        19| 606.0|   7|\n",
      "|     UA|   MIA| EWR|  1072.0|        20|1085.0|   1|\n",
      "+-------+------+----+--------+----------+------+----+\n",
      "only showing top 5 rows\n",
      "\n"
     ]
    }
   ],
   "source": [
    "df.select($\"carrier\", $\"origin\", $\"dest\", $\"depdelay\", $\"crsdephour\", $\"dist\", $\"dofw\") .filter($\"depdelay\"> 40).orderBy(desc( \"depdelay\")).show(5)"
   ]
  },
  {
   "cell_type": "code",
   "execution_count": 13,
   "id": "dc062861-378e-47c2-9d6d-691ac012b96c",
   "metadata": {},
   "outputs": [
    {
     "name": "stdout",
     "output_type": "stream",
     "text": [
      "+-------+------------------+\n",
      "|carrier|     avg(depdelay)|\n",
      "+-------+------------------+\n",
      "|     UA|17.477878450696764|\n",
      "|     AA| 10.45768118831622|\n",
      "|     DL|15.316061660865241|\n",
      "|     WN|13.491000418585182|\n",
      "+-------+------------------+\n",
      "\n"
     ]
    }
   ],
   "source": [
    "df.groupBy(\"carrier\").agg(avg(\"depdelay\")).show"
   ]
  },
  {
   "cell_type": "code",
   "execution_count": 14,
   "id": "682845d9-8f21-4252-bff5-57711f71aab5",
   "metadata": {},
   "outputs": [
    {
     "name": "stdout",
     "output_type": "stream",
     "text": [
      "+-------+------------------+\n",
      "|carrier|     avg(depdelay)|\n",
      "+-------+------------------+\n",
      "|     UA|17.477878450696764|\n",
      "|     AA| 10.45768118831622|\n",
      "|     DL|15.316061660865241|\n",
      "|     WN|13.491000418585182|\n",
      "+-------+------------------+\n",
      "\n"
     ]
    }
   ],
   "source": [
    "spark.sql(\"select carrier, avg(depdelay) from flights group by carrier\").show() \n",
    "//display(spark.sql(\"select carrier, avg(depdelay) from flights group by carrier\"))\n"
   ]
  },
  {
   "cell_type": "code",
   "execution_count": 15,
   "id": "d70c8b6c-9df4-4d91-8d3e-5e6c27cdb39b",
   "metadata": {},
   "outputs": [
    {
     "name": "stdout",
     "output_type": "stream",
     "text": [
      "+-------+-----+\n",
      "|carrier|count|\n",
      "+-------+-----+\n",
      "|     UA| 2094|\n",
      "|     DL|  911|\n",
      "|     AA|  642|\n",
      "|     WN|  201|\n",
      "+-------+-----+\n",
      "\n"
     ]
    }
   ],
   "source": [
    "df.filter($\"depdelay\"> 48).groupBy(\"carrier\").count.orderBy (desc(\"count\")).show(5)\n",
    "//display(sql(\"select carrier, count(depdelay) from flights where depdelay> 40 group by carrier\"))"
   ]
  },
  {
   "cell_type": "code",
   "execution_count": 16,
   "id": "de932280-501b-4cea-a62b-5e6d6d832163",
   "metadata": {},
   "outputs": [
    {
     "name": "stdout",
     "output_type": "stream",
     "text": [
      "+----+---------------+\n",
      "|dofw|count(depdelay)|\n",
      "+----+---------------+\n",
      "|   7|            701|\n",
      "|   6|            424|\n",
      "|   5|            579|\n",
      "|   1|            940|\n",
      "|   3|            482|\n",
      "|   2|            712|\n",
      "|   4|            626|\n",
      "+----+---------------+\n",
      "\n"
     ]
    }
   ],
   "source": [
    "spark.sql(\"select dofw, count (depdelay) from flights where depdelay> 40 group by dofw\").show()\n",
    "//display(sql(\"select dofw, count (depdelay) from flights where depdelay> 40 group by dofw\"));"
   ]
  },
  {
   "cell_type": "code",
   "execution_count": 19,
   "id": "c25b8b4a-11a8-4d0a-9c53-c846f6de26b8",
   "metadata": {},
   "outputs": [
    {
     "name": "stdout",
     "output_type": "stream",
     "text": [
      "+----------+---------------+\n",
      "|crsdephour|count(depdelay)|\n",
      "+----------+---------------+\n",
      "|         0|              8|\n",
      "|         1|              1|\n",
      "|         5|             14|\n",
      "|         6|             58|\n",
      "|         7|             89|\n",
      "|         8|            160|\n",
      "|         9|            151|\n",
      "|        10|            239|\n",
      "|        11|            238|\n",
      "|        12|            207|\n",
      "|        13|            279|\n",
      "|        14|            306|\n",
      "|        15|            279|\n",
      "|        16|            317|\n",
      "|        17|            419|\n",
      "|        18|            346|\n",
      "|        19|            327|\n",
      "|        20|            189|\n",
      "|        21|            134|\n",
      "|        22|             57|\n",
      "+----------+---------------+\n",
      "only showing top 20 rows\n",
      "\n"
     ]
    }
   ],
   "source": [
    "spark.sql(\"select crsdephour, count(depdelay) from flights where depdelay > 48 group by crsdephour order by crsdephour\").show()\n",
    "//display(sql(\"select crsdephour, count(depdelay) from flights where depdelay 48 group by crsdephour order by crsdephour\"))"
   ]
  },
  {
   "cell_type": "code",
   "execution_count": 18,
   "id": "0d0f1f7b-4936-44a2-b663-5c3c67aa9dd2",
   "metadata": {},
   "outputs": [
    {
     "name": "stdout",
     "output_type": "stream",
     "text": [
      "+------+---------------+\n",
      "|origin|count(depdelay)|\n",
      "+------+---------------+\n",
      "|   ORD|            679|\n",
      "|   ATL|            637|\n",
      "|   SFO|            542|\n",
      "|   EWR|            518|\n",
      "|   DEN|            484|\n",
      "|   IAH|            447|\n",
      "|   LGA|            432|\n",
      "|   MIA|            429|\n",
      "|   BOS|            296|\n",
      "+------+---------------+\n",
      "\n"
     ]
    },
    {
     "data": {
      "text/plain": [
       "lastException = null\n"
      ]
     },
     "metadata": {},
     "output_type": "display_data",
     "source": "user"
    },
    {
     "data": {
      "text/plain": [
       "null"
      ]
     },
     "execution_count": 18,
     "metadata": {},
     "output_type": "execute_result"
    }
   ],
   "source": [
    "spark.sql(\"select origin, count (depdelay) from flights where depdelay> 40 group by origin ORDER BY count (depdelay) desc\").show()\n",
    "//display(sql(\"select origin, count (depdelay) from flights where depdelay> 40 group by origin ORDER BY count (depdelay) desc\"))"
   ]
  },
  {
   "cell_type": "code",
   "execution_count": null,
   "id": "8c8a64e1-64f3-4de6-86b1-df0b07136e87",
   "metadata": {},
   "outputs": [],
   "source": []
  },
  {
   "cell_type": "code",
   "execution_count": null,
   "id": "34e09f82-65be-4c3c-99bd-ada8668eafb4",
   "metadata": {},
   "outputs": [],
   "source": []
  },
  {
   "cell_type": "code",
   "execution_count": null,
   "id": "9f719eeb-58e2-4bf2-aa5a-77a20a129d11",
   "metadata": {},
   "outputs": [],
   "source": []
  }
 ],
 "metadata": {
  "kernelspec": {
   "display_name": "scala - Scala",
   "language": "scala",
   "name": "scala_scala"
  },
  "language_info": {
   "codemirror_mode": "text/x-scala",
   "file_extension": ".scala",
   "mimetype": "text/x-scala",
   "name": "scala",
   "pygments_lexer": "scala",
   "version": "2.12.15"
  }
 },
 "nbformat": 4,
 "nbformat_minor": 5
}
